{
 "cells": [
  {
   "cell_type": "code",
   "execution_count": 2,
   "metadata": {},
   "outputs": [
    {
     "name": "stdout",
     "output_type": "stream",
     "text": [
      "zsh:1: no matches found: skin-tone-classifier[all]\n"
     ]
    }
   ],
   "source": [
    "! pip install skin-tone-classifier[all] --upgrade"
   ]
  }
 ],
 "metadata": {
  "kernelspec": {
   "display_name": "newwnv",
   "language": "python",
   "name": "newwnv"
  },
  "language_info": {
   "codemirror_mode": {
    "name": "ipython",
    "version": 3
   },
   "file_extension": ".py",
   "mimetype": "text/x-python",
   "name": "python",
   "nbconvert_exporter": "python",
   "pygments_lexer": "ipython3",
   "version": "3.7.16"
  }
 },
 "nbformat": 4,
 "nbformat_minor": 2
}
